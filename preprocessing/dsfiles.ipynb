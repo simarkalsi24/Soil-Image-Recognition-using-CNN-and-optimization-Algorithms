{
 "cells": [
  {
   "cell_type": "code",
   "execution_count": 10,
   "id": "31c413d7-e0fa-4ef2-bd2d-d422263acec1",
   "metadata": {
    "scrolled": true
   },
   "outputs": [
    {
     "name": "stdout",
     "output_type": "stream",
     "text": [
      "✅ Removed 0 '.DS_Store' files.\n",
      "\n",
      "📁 Counting image files in: splitted_dataset/train\n",
      "📂 Class 'alluvial': 42 images\n",
      "📂 Class 'red': 40 images\n",
      "📂 Class 'Clay': 42 images\n",
      "📂 Class 'Sandy': 42 images\n",
      "📂 Class 'black': 42 images\n",
      "\n",
      "📊 Total images in 'splitted_dataset/train': 208\n",
      "\n",
      "📁 Counting image files in: splitted_dataset/validation\n",
      "\n",
      "📊 Total images in 'splitted_dataset/validation': 0\n",
      "\n",
      "📁 Counting image files in: splitted_dataset/test\n",
      "📂 Class 'alluvial': 9 images\n",
      "📂 Class 'red': 9 images\n",
      "📂 Class 'Clay': 9 images\n",
      "📂 Class 'Sandy': 9 images\n",
      "📂 Class 'black': 9 images\n",
      "\n",
      "📊 Total images in 'splitted_dataset/test': 45\n"
     ]
    }
   ],
   "source": [
    "import os\n",
    "\n",
    "def remove_ds_store_files(dataset_path):\n",
    "    \"\"\"Remove all .DS_Store files recursively.\"\"\"\n",
    "    count = 0\n",
    "    for root, dirs, files in os.walk(dataset_path):\n",
    "        for file in files:\n",
    "            if file == '.DS_Store':\n",
    "                file_path = os.path.join(root, file)\n",
    "                os.remove(file_path)\n",
    "                count += 1\n",
    "    print(f\"✅ Removed {count} '.DS_Store' files.\")\n",
    "\n",
    "def count_images_in_folders(dataset_path):\n",
    "    \"\"\"Count the number of image files in each class folder.\"\"\"\n",
    "    print(f\"\\n📁 Counting image files in: {dataset_path}\")\n",
    "    total_images = 0\n",
    "    for root, dirs, files in os.walk(dataset_path):\n",
    "        image_files = [f for f in files if f.lower().endswith(('.png', '.jpg', '.jpeg'))]\n",
    "        if image_files:\n",
    "            class_name = os.path.basename(root)\n",
    "            count = len(image_files)\n",
    "            total_images += count\n",
    "            print(f\"📂 Class '{class_name}': {count} images\")\n",
    "    print(f\"\\n📊 Total images in '{dataset_path}': {total_images}\")\n",
    "\n",
    "# ======== USAGE ========\n",
    "base_path = \"splitted_dataset\"  # change this to your dataset root directory\n",
    "\n",
    "remove_ds_store_files(base_path)\n",
    "\n",
    "# Run for train, validation, and test folders\n",
    "for split in ['train', 'validation', 'test']:\n",
    "    split_path = os.path.join(base_path, split)\n",
    "    count_images_in_folders(split_path)"
   ]
  },
  {
   "cell_type": "code",
   "execution_count": null,
   "id": "84cfe121-6465-4424-8a1a-b8fe1330b98c",
   "metadata": {},
   "outputs": [],
   "source": []
  }
 ],
 "metadata": {
  "kernelspec": {
   "display_name": "soil",
   "language": "python",
   "name": "soil"
  },
  "language_info": {
   "codemirror_mode": {
    "name": "ipython",
    "version": 3
   },
   "file_extension": ".py",
   "mimetype": "text/x-python",
   "name": "python",
   "nbconvert_exporter": "python",
   "pygments_lexer": "ipython3",
   "version": "3.12.4"
  }
 },
 "nbformat": 4,
 "nbformat_minor": 5
}
