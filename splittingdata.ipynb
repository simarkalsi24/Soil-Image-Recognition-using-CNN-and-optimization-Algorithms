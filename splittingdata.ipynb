{
 "cells": [
  {
   "cell_type": "code",
   "execution_count": 3,
   "id": "11f161a6-8c8f-4787-ab98-56d2c3f418aa",
   "metadata": {},
   "outputs": [
    {
     "name": "stdout",
     "output_type": "stream",
     "text": [
      "✅ Dataset has been split into train/val/test with 42/9/9 images per class.\n"
     ]
    }
   ],
   "source": [
    "import os\n",
    "import shutil\n",
    "import random\n",
    "\n",
    "# Set paths\n",
    "original_dataset_dir = \"dataset\"  # Your original dataset path\n",
    "output_base_dir = \"splitted_dataset\"  # Where to save the split dataset\n",
    "\n",
    "# Create base folders\n",
    "for split in [\"train\", \"val\", \"test\"]:\n",
    "    os.makedirs(os.path.join(output_base_dir, split), exist_ok=True)\n",
    "\n",
    "# Split ratios\n",
    "train_ratio = 0.7\n",
    "val_ratio = 0.15\n",
    "test_ratio = 0.15\n",
    "\n",
    "# Fix seed for reproducibility\n",
    "random.seed(42)\n",
    "\n",
    "# Go through each class folder\n",
    "for class_name in os.listdir(original_dataset_dir):\n",
    "    class_path = os.path.join(original_dataset_dir, class_name)\n",
    "    if not os.path.isdir(class_path):\n",
    "        continue\n",
    "\n",
    "    # List all image files\n",
    "    image_files = [f for f in os.listdir(class_path) if f.lower().endswith(('.jpg', '.png', '.jpeg'))]\n",
    "    random.shuffle(image_files)\n",
    "\n",
    "    total = len(image_files)\n",
    "    train_end = int(train_ratio * total)\n",
    "    val_end = train_end + int(val_ratio * total)\n",
    "\n",
    "    train_files = image_files[:train_end]\n",
    "    val_files = image_files[train_end:val_end]\n",
    "    test_files = image_files[val_end:]\n",
    "\n",
    "    # Copy files to respective folders\n",
    "    for split_name, files in zip([\"train\", \"val\", \"test\"], [train_files, val_files, test_files]):\n",
    "        split_class_dir = os.path.join(output_base_dir, split_name, class_name)\n",
    "        os.makedirs(split_class_dir, exist_ok=True)\n",
    "\n",
    "        for file_name in files:\n",
    "            src = os.path.join(class_path, file_name)\n",
    "            dst = os.path.join(split_class_dir, file_name)\n",
    "            shutil.copy2(src, dst)\n",
    "\n",
    "print(\"✅ Dataset has been split into train/val/test with 42/9/9 images per class.\")\n"
   ]
  },
  {
   "cell_type": "code",
   "execution_count": null,
   "id": "b6c0d1eb-9181-4716-bb12-a793fa4c99a3",
   "metadata": {},
   "outputs": [],
   "source": []
  }
 ],
 "metadata": {
  "kernelspec": {
   "display_name": "soil",
   "language": "python",
   "name": "soil"
  },
  "language_info": {
   "codemirror_mode": {
    "name": "ipython",
    "version": 3
   },
   "file_extension": ".py",
   "mimetype": "text/x-python",
   "name": "python",
   "nbconvert_exporter": "python",
   "pygments_lexer": "ipython3",
   "version": "3.12.4"
  }
 },
 "nbformat": 4,
 "nbformat_minor": 5
}
